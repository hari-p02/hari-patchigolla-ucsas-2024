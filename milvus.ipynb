{
 "cells": [
  {
   "cell_type": "code",
   "execution_count": 1,
   "metadata": {},
   "outputs": [],
   "source": [
    "from pymilvus import connections, FieldSchema, CollectionSchema, DataType, Collection, utility\n",
    "import json\n",
    "import numpy as np\n",
    "import os\n",
    "import pandas as pd\n",
    "pd.set_option('display.max_columns', 500)\n",
    "pd.set_option('display.max_rows', 500)"
   ]
  },
  {
   "cell_type": "code",
   "execution_count": 2,
   "metadata": {},
   "outputs": [],
   "source": [
    "connections.connect(host=\"100.25.152.178\", port=\"19530\")"
   ]
  },
  {
   "cell_type": "code",
   "execution_count": 4,
   "metadata": {},
   "outputs": [],
   "source": [
    "fields = [\n",
    "    FieldSchema(name='long_name', dtype=DataType.VARCHAR, is_primary=True, max_length=150),\n",
    "    FieldSchema(name=\"vector\", dtype=DataType.FLOAT_VECTOR, dim=32),\n",
    "    FieldSchema(name='player_positions', dtype=DataType.VARCHAR, max_length=100),\n",
    "    FieldSchema(name='overall', dtype=DataType.INT64),\n",
    "    FieldSchema(name='value_eur', dtype=DataType.FLOAT),\n",
    "    FieldSchema(name='age', dtype=DataType.INT64 ),\n",
    "    FieldSchema(name='club_position', dtype=DataType.VARCHAR, max_length=10),\n",
    "    FieldSchema(name='preferred_foot', dtype=DataType.VARCHAR, max_length=10),\n",
    "    FieldSchema(name='weak_foot', dtype=DataType.INT64),\n",
    "    FieldSchema(name='skill_moves', dtype=DataType.INT64),\n",
    "    FieldSchema(name='international_reputation', dtype=DataType.INT64),\n",
    "    FieldSchema(name='pace', dtype=DataType.FLOAT),\n",
    "    FieldSchema(name='shooting', dtype=DataType.FLOAT),\n",
    "    FieldSchema(name='passing', dtype=DataType.FLOAT),\n",
    "    FieldSchema(name='dribbling', dtype=DataType.FLOAT),\n",
    "    FieldSchema(name='defending', dtype=DataType.FLOAT),\n",
    "    FieldSchema(name='physic', dtype=DataType.FLOAT),\n",
    "    FieldSchema(name='attacking_crossing', dtype=DataType.INT64),\n",
    "    FieldSchema(name='attacking_finishing', dtype=DataType.INT64),\n",
    "    FieldSchema(name='attacking_heading_accuracy', dtype=DataType.INT64),\n",
    "    FieldSchema(name='attacking_short_passing', dtype=DataType.INT64),\n",
    "    FieldSchema(name='attacking_volleys', dtype=DataType.INT64),\n",
    "    FieldSchema(name='skill_dribbling', dtype=DataType.INT64),\n",
    "    FieldSchema(name='skill_curve', dtype=DataType.INT64),\n",
    "    FieldSchema(name='skill_fk_accuracy', dtype=DataType.INT64),\n",
    "    FieldSchema(name='skill_long_passing', dtype=DataType.INT64),\n",
    "    FieldSchema(name='skill_ball_control', dtype=DataType.INT64),\n",
    "    FieldSchema(name='movement_acceleration', dtype=DataType.INT64),\n",
    "    FieldSchema(name='movement_sprint_speed', dtype=DataType.INT64),\n",
    "    FieldSchema(name='movement_agility', dtype=DataType.INT64),\n",
    "    FieldSchema(name='movement_reactions', dtype=DataType.INT64),\n",
    "    FieldSchema(name='movement_balance', dtype=DataType.INT64),\n",
    "    FieldSchema(name='power_shot_power', dtype=DataType.INT64),\n",
    "    FieldSchema(name='power_jumping', dtype=DataType.INT64),\n",
    "    FieldSchema(name='power_stamina', dtype=DataType.INT64),\n",
    "    FieldSchema(name='power_strength', dtype=DataType.INT64),\n",
    "    FieldSchema(name='power_long_shots', dtype=DataType.INT64),\n",
    "    FieldSchema(name='mentality_aggression', dtype=DataType.INT64),\n",
    "    FieldSchema(name='mentality_interceptions', dtype=DataType.INT64),\n",
    "    FieldSchema(name='mentality_positioning', dtype=DataType.INT64),\n",
    "    FieldSchema(name='mentality_vision', dtype=DataType.INT64),\n",
    "    FieldSchema(name='mentality_penalties', dtype=DataType.INT64),\n",
    "    FieldSchema(name='mentality_composure', dtype=DataType.INT64)\n",
    "]"
   ]
  },
  {
   "cell_type": "code",
   "execution_count": 5,
   "metadata": {},
   "outputs": [],
   "source": [
    "# collection = Collection(name='UCSAS_VECTORS')\n",
    "# collection.drop()"
   ]
  },
  {
   "cell_type": "code",
   "execution_count": 6,
   "metadata": {},
   "outputs": [],
   "source": [
    "schema = CollectionSchema(\n",
    "    fields,\n",
    "    description=\"schema of fifa soccer attackers\"\n",
    ")"
   ]
  },
  {
   "cell_type": "code",
   "execution_count": 7,
   "metadata": {},
   "outputs": [],
   "source": [
    "collection = Collection(\n",
    "    name=\"UCSAS_VECTORS\",\n",
    "    description='This collection contains all embeddings for soccer fifa attackers used the UCSAS presentation',\n",
    "    schema = schema\n",
    ")"
   ]
  },
  {
   "cell_type": "code",
   "execution_count": 8,
   "metadata": {},
   "outputs": [
    {
     "data": {
      "text/plain": [
       "Status(code=0, message=)"
      ]
     },
     "execution_count": 8,
     "metadata": {},
     "output_type": "execute_result"
    }
   ],
   "source": [
    "collection.create_index(\n",
    "    field_name=\"vector\",\n",
    "    index_params = {\n",
    "        \"metric_type\": \"L2\",\n",
    "        \"index_type\": \"IVF_FLAT\",\n",
    "        \"params\": {\"nlist\": 128}\n",
    "    },\n",
    "    index_name=\"vector_query\"\n",
    ")"
   ]
  },
  {
   "cell_type": "code",
   "execution_count": 9,
   "metadata": {},
   "outputs": [],
   "source": [
    "df = pd.read_csv(\"players.csv\")"
   ]
  },
  {
   "cell_type": "code",
   "execution_count": 12,
   "metadata": {},
   "outputs": [
    {
     "data": {
      "text/plain": [
       "(2560, 32)"
      ]
     },
     "execution_count": 12,
     "metadata": {},
     "output_type": "execute_result"
    }
   ],
   "source": [
    "embds = np.load(\"embds.npy\")\n",
    "embds.shape"
   ]
  },
  {
   "cell_type": "code",
   "execution_count": 13,
   "metadata": {},
   "outputs": [],
   "source": [
    "for i in range(len(embds)):\n",
    "    insd = {\n",
    "        'long_name': df.loc[i]['long_name'],\n",
    "        'vector': embds[i].tolist(),\n",
    "        'player_positions': df.loc[i]['player_positions'],\n",
    "        'overall': df.loc[i]['overall'],\n",
    "        'value_eur': df.loc[i]['value_eur'],\n",
    "        'age': df.loc[i]['age'],\n",
    "        'club_position': df.loc[i]['club_position'],\n",
    "        'preferred_foot': df.loc[i]['preferred_foot'],\n",
    "        'weak_foot': df.loc[i]['weak_foot'],\n",
    "        'skill_moves': df.loc[i]['skill_moves'],\n",
    "        'international_reputation': df.loc[i]['international_reputation'],\n",
    "        'pace': df.loc[i]['pace'],\n",
    "        'shooting': df.loc[i]['shooting'],\n",
    "        'passing': df.loc[i]['passing'],\n",
    "        'dribbling': df.loc[i]['dribbling'],\n",
    "        'defending': df.loc[i]['defending'],\n",
    "        'physic': df.loc[i]['physic'],\n",
    "        'attacking_crossing': df.loc[i]['attacking_crossing'],\n",
    "        'attacking_finishing': df.loc[i]['attacking_finishing'],\n",
    "        'attacking_heading_accuracy': df.loc[i]['attacking_heading_accuracy'],\n",
    "        'attacking_short_passing': df.loc[i]['attacking_short_passing'],\n",
    "        'attacking_volleys': df.loc[i]['attacking_volleys'],\n",
    "        'skill_dribbling': df.loc[i]['skill_dribbling'],\n",
    "        'skill_curve': df.loc[i]['skill_curve'],\n",
    "        'skill_fk_accuracy': df.loc[i]['skill_fk_accuracy'],\n",
    "        'skill_long_passing': df.loc[i]['skill_long_passing'],\n",
    "        'skill_ball_control': df.loc[i]['skill_ball_control'],\n",
    "        'movement_acceleration': df.loc[i]['movement_acceleration'],\n",
    "        'movement_sprint_speed': df.loc[i]['movement_sprint_speed'],\n",
    "        'movement_agility': df.loc[i]['movement_agility'],\n",
    "        'movement_reactions': df.loc[i]['movement_reactions'],\n",
    "        'movement_balance': df.loc[i]['movement_balance'],\n",
    "        'power_shot_power': df.loc[i]['power_shot_power'],\n",
    "        'power_jumping': df.loc[i]['power_jumping'],\n",
    "        'power_stamina': df.loc[i]['power_stamina'],\n",
    "        'power_strength': df.loc[i]['power_strength'],\n",
    "        'power_long_shots': df.loc[i]['power_long_shots'],\n",
    "        'mentality_aggression': df.loc[i]['mentality_aggression'],\n",
    "        'mentality_interceptions': df.loc[i]['mentality_interceptions'],\n",
    "        'mentality_positioning': df.loc[i]['mentality_positioning'],\n",
    "        'mentality_vision': df.loc[i]['mentality_vision'],\n",
    "        'mentality_penalties': df.loc[i]['mentality_penalties'],\n",
    "        'mentality_composure': df.loc[i]['mentality_composure']\n",
    "    }\n",
    "    collection.insert(insd)"
   ]
  },
  {
   "cell_type": "code",
   "execution_count": 14,
   "metadata": {},
   "outputs": [],
   "source": [
    "collection.flush()"
   ]
  },
  {
   "cell_type": "code",
   "execution_count": 15,
   "metadata": {},
   "outputs": [
    {
     "data": {
      "text/plain": [
       "2560"
      ]
     },
     "execution_count": 15,
     "metadata": {},
     "output_type": "execute_result"
    }
   ],
   "source": [
    "collection.num_entities"
   ]
  },
  {
   "cell_type": "code",
   "execution_count": 16,
   "metadata": {},
   "outputs": [],
   "source": [
    "collection.load()"
   ]
  },
  {
   "cell_type": "code",
   "execution_count": 17,
   "metadata": {},
   "outputs": [],
   "source": [
    "search_params = {\n",
    "    \"metric_type\": \"L2\", \n",
    "    \"params\": {\"nprobe\": 10}, \n",
    "}\n",
    "\n",
    "search_results = collection.search(\n",
    "    data = [embds[0].tolist()], \n",
    "    anns_field=\"vector\",  \n",
    "    param=search_params,\n",
    "    limit=10,  \n",
    "    expr=None,  \n",
    "    output_fields=[\"*\"],  \n",
    ")"
   ]
  },
  {
   "cell_type": "code",
   "execution_count": 18,
   "metadata": {},
   "outputs": [
    {
     "name": "stdout",
     "output_type": "stream",
     "text": [
      "['[\"id: Lionel Andrés Messi Cuccittini, distance: 0.0, entity: {\\'club_position\\': \\'RW\\', \\'skill_moves\\': 4, \\'player_positions\\': \\'RW, ST, CF\\', \\'dribbling\\': 95.0, \\'value_eur\\': 78000000.0, \\'skill_curve\\': 93, \\'attacking_short_passing\\': 91, \\'skill_fk_accuracy\\': 94, \\'mentality_penalties\\': 75, \\'shooting\\': 92.0, \\'movement_acceleration\\': 91, \\'skill_long_passing\\': 91, \\'attacking_finishing\\': 95, \\'power_strength\\': 69, \\'long_name\\': \\'Lionel Andrés Messi Cuccittini\\', \\'power_long_shots\\': 94, \\'pace\\': 85.0, \\'vector\\': [1.199607253074646, 0.0, 0.16786561906337738, 0.7014968395233154, 0.20305615663528442, 0.6455685496330261, 0.0, 0.15416809916496277, 0.0, 0.0, 0.7793152332305908, 0.0, 0.05994110554456711, 0.0, 0.0, 0.0, 0.03909285366535187, 0.0, 0.0, 0.35736221075057983, 0.0, 0.5569669604301453, 0.6060150861740112, 0.0, 0.20999568700790405, 0.482854962348938, 0.3490365147590637, 0.10431646555662155, 0.0, 0.0, 0.35658350586891174, 0.0], \\'weak_foot\\': 4, \\'mentality_composure\\': 96, \\'power_jumping\\': 68, \\'passing\\': 91.0, \\'mentality_interceptions\\': 40, \\'physic\\': 65.0, \\'international_reputation\\': 5, \\'mentality_positioning\\': 93, \\'skill_dribbling\\': 96, \\'mentality_aggression\\': 44, \\'mentality_vision\\': 95, \\'attacking_crossing\\': 85, \\'defending\\': 34.0, \\'movement_balance\\': 95, \\'power_shot_power\\': 86, \\'overall\\': 93, \\'attacking_volleys\\': 88, \\'skill_ball_control\\': 96, \\'movement_agility\\': 91, \\'age\\': 34, \\'movement_sprint_speed\\': 80, \\'attacking_heading_accuracy\\': 70, \\'preferred_foot\\': \\'Left\\', \\'power_stamina\\': 72, \\'movement_reactions\\': 94}\", \"id: Kylian Mbappé Lottin, distance: 0.04481269791722298, entity: {\\'club_position\\': \\'ST\\', \\'skill_moves\\': 5, \\'player_positions\\': \\'ST, LW\\', \\'dribbling\\': 92.0, \\'value_eur\\': 194000000.0, \\'skill_curve\\': 80, \\'attacking_short_passing\\': 85, \\'skill_fk_accuracy\\': 69, \\'mentality_penalties\\': 79, \\'shooting\\': 88.0, \\'movement_acceleration\\': 97, \\'skill_long_passing\\': 71, \\'attacking_finishing\\': 93, \\'power_strength\\': 77, \\'long_name\\': \\'Kylian Mbappé Lottin\\', \\'power_long_shots\\': 82, \\'pace\\': 97.0, \\'vector\\': [1.128506064414978, 0.0, 0.1214846521615982, 0.6526758670806885, 0.1871628314256668, 0.5785790085792542, 0.0, 0.14882707595825195, 0.0, 0.0, 0.6922916769981384, 0.0, 0.03077150508761406, 0.0, 0.0, 0.0, 0.0, 0.0, 0.0, 0.3520618677139282, 0.0, 0.4657602906227112, 0.5483202934265137, 0.0, 0.18636593222618103, 0.4837825894355774, 0.2700585424900055, 0.11600203812122345, 0.0, 0.0, 0.31307533383369446, 0.0], \\'weak_foot\\': 4, \\'mentality_composure\\': 88, \\'power_jumping\\': 78, \\'passing\\': 80.0, \\'mentality_interceptions\\': 38, \\'physic\\': 77.0, \\'international_reputation\\': 4, \\'mentality_positioning\\': 92, \\'skill_dribbling\\': 93, \\'mentality_aggression\\': 62, \\'mentality_vision\\': 82, \\'attacking_crossing\\': 78, \\'defending\\': 36.0, \\'movement_balance\\': 83, \\'power_shot_power\\': 86, \\'overall\\': 91, \\'attacking_volleys\\': 83, \\'skill_ball_control\\': 91, \\'movement_agility\\': 92, \\'age\\': 22, \\'movement_sprint_speed\\': 97, \\'attacking_heading_accuracy\\': 72, \\'preferred_foot\\': \\'Right\\', \\'power_stamina\\': 88, \\'movement_reactions\\': 93}\", \"id: Cristiano Ronaldo dos Santos Aveiro, distance: 0.05015239119529724, entity: {\\'club_position\\': \\'ST\\', \\'skill_moves\\': 5, \\'player_positions\\': \\'ST, LW\\', \\'dribbling\\': 88.0, \\'value_eur\\': 45000000.0, \\'skill_curve\\': 81, \\'attacking_short_passing\\': 80, \\'skill_fk_accuracy\\': 84, \\'mentality_penalties\\': 88, \\'shooting\\': 94.0, \\'movement_acceleration\\': 85, \\'skill_long_passing\\': 77, \\'attacking_finishing\\': 95, \\'power_strength\\': 77, \\'long_name\\': \\'Cristiano Ronaldo dos Santos Aveiro\\', \\'power_long_shots\\': 93, \\'pace\\': 87.0, \\'vector\\': [1.1392619609832764, 0.0, 0.1269620954990387, 0.7004766464233398, 0.21255800127983093, 0.6096307635307312, 0.0, 0.1526607722043991, 0.0, 0.0, 0.6487354636192322, 0.0, 0.04301653057336807, 0.0, 0.0, 0.0, 0.027053311467170715, 0.0, 0.0, 0.3483899235725403, 0.0, 0.5081695914268494, 0.5426785349845886, 0.0, 0.1931653469800949, 0.4736132025718689, 0.21694307029247284, 0.07990123331546783, 0.0, 0.0, 0.3236670196056366, 0.0], \\'weak_foot\\': 4, \\'mentality_composure\\': 95, \\'power_jumping\\': 95, \\'passing\\': 80.0, \\'mentality_interceptions\\': 29, \\'physic\\': 75.0, \\'international_reputation\\': 5, \\'mentality_positioning\\': 95, \\'skill_dribbling\\': 88, \\'mentality_aggression\\': 63, \\'mentality_vision\\': 76, \\'attacking_crossing\\': 87, \\'defending\\': 34.0, \\'movement_balance\\': 74, \\'power_shot_power\\': 94, \\'overall\\': 91, \\'attacking_volleys\\': 86, \\'skill_ball_control\\': 88, \\'movement_agility\\': 86, \\'age\\': 36, \\'movement_sprint_speed\\': 88, \\'attacking_heading_accuracy\\': 90, \\'preferred_foot\\': \\'Right\\', \\'power_stamina\\': 77, \\'movement_reactions\\': 94}\", \"id: Neymar da Silva Santos Júnior, distance: 0.07671073079109192, entity: {\\'club_position\\': \\'LW\\', \\'skill_moves\\': 5, \\'player_positions\\': \\'LW, CAM\\', \\'dribbling\\': 94.0, \\'value_eur\\': 129000000.0, \\'skill_curve\\': 88, \\'attacking_short_passing\\': 86, \\'skill_fk_accuracy\\': 87, \\'mentality_penalties\\': 93, \\'shooting\\': 83.0, \\'movement_acceleration\\': 93, \\'skill_long_passing\\': 81, \\'attacking_finishing\\': 83, \\'power_strength\\': 53, \\'long_name\\': \\'Neymar da Silva Santos Júnior\\', \\'power_long_shots\\': 81, \\'pace\\': 91.0, \\'vector\\': [1.1073333024978638, 0.0, 0.1491025686264038, 0.6253119111061096, 0.2040935903787613, 0.5759401321411133, 0.0, 0.0858829990029335, 0.0, 0.0, 0.6764828562736511, 0.0, 0.0, 0.0, 0.0, 0.0, 0.010232353582978249, 0.0, 0.0, 0.2958539128303528, 0.0, 0.4766879975795746, 0.5982169508934021, 0.0, 0.144522562623024, 0.36629852652549744, 0.2929910719394684, 0.17552392184734344, 0.0, 0.0, 0.3225964307785034, 0.0], \\'weak_foot\\': 5, \\'mentality_composure\\': 93, \\'power_jumping\\': 64, \\'passing\\': 86.0, \\'mentality_interceptions\\': 37, \\'physic\\': 63.0, \\'international_reputation\\': 5, \\'mentality_positioning\\': 86, \\'skill_dribbling\\': 95, \\'mentality_aggression\\': 63, \\'mentality_vision\\': 90, \\'attacking_crossing\\': 85, \\'defending\\': 37.0, \\'movement_balance\\': 84, \\'power_shot_power\\': 80, \\'overall\\': 91, \\'attacking_volleys\\': 86, \\'skill_ball_control\\': 95, \\'movement_agility\\': 96, \\'age\\': 29, \\'movement_sprint_speed\\': 89, \\'attacking_heading_accuracy\\': 63, \\'preferred_foot\\': \\'Right\\', \\'power_stamina\\': 81, \\'movement_reactions\\': 89}\", \"id: Robert Lewandowski, distance: 0.09126165509223938, entity: {\\'club_position\\': \\'ST\\', \\'skill_moves\\': 4, \\'player_positions\\': \\'ST\\', \\'dribbling\\': 86.0, \\'value_eur\\': 119500000.0, \\'skill_curve\\': 79, \\'attacking_short_passing\\': 85, \\'skill_fk_accuracy\\': 85, \\'mentality_penalties\\': 90, \\'shooting\\': 92.0, \\'movement_acceleration\\': 77, \\'skill_long_passing\\': 70, \\'attacking_finishing\\': 95, \\'power_strength\\': 86, \\'long_name\\': \\'Robert Lewandowski\\', \\'power_long_shots\\': 87, \\'pace\\': 78.0, \\'vector\\': [1.1251397132873535, 0.0, 0.12911996245384216, 0.712626039981842, 0.22640177607536316, 0.6107416152954102, 0.0, 0.12499023228883743, 0.0, 0.0, 0.5941939949989319, 0.0, 0.05234338343143463, 0.0, 0.0, 0.0, 0.03954276815056801, 0.0, 0.0, 0.37711721658706665, 0.0, 0.5168852806091309, 0.5558753609657288, 0.0, 0.20989353954792023, 0.43869003653526306, 0.16824054718017578, 0.044270992279052734, 0.0, 0.0, 0.29025033116340637, 0.0], \\'weak_foot\\': 4, \\'mentality_composure\\': 88, \\'power_jumping\\': 85, \\'passing\\': 79.0, \\'mentality_interceptions\\': 49, \\'physic\\': 82.0, \\'international_reputation\\': 5, \\'mentality_positioning\\': 95, \\'skill_dribbling\\': 85, \\'mentality_aggression\\': 81, \\'mentality_vision\\': 81, \\'attacking_crossing\\': 71, \\'defending\\': 44.0, \\'movement_balance\\': 82, \\'power_shot_power\\': 90, \\'overall\\': 92, \\'attacking_volleys\\': 89, \\'skill_ball_control\\': 88, \\'movement_agility\\': 77, \\'age\\': 32, \\'movement_sprint_speed\\': 79, \\'attacking_heading_accuracy\\': 90, \\'preferred_foot\\': \\'Right\\', \\'power_stamina\\': 76, \\'movement_reactions\\': 93}\", \"id: Sadio Mané, distance: 0.09476655721664429, entity: {\\'club_position\\': \\'LW\\', \\'skill_moves\\': 4, \\'player_positions\\': \\'LW\\', \\'dribbling\\': 89.0, \\'value_eur\\': 101000000.0, \\'skill_curve\\': 77, \\'attacking_short_passing\\': 84, \\'skill_fk_accuracy\\': 64, \\'mentality_penalties\\': 71, \\'shooting\\': 83.0, \\'movement_acceleration\\': 93, \\'skill_long_passing\\': 71, \\'attacking_finishing\\': 86, \\'power_strength\\': 72, \\'long_name\\': \\'Sadio Mané\\', \\'power_long_shots\\': 80, \\'pace\\': 91.0, \\'vector\\': [1.080026388168335, 0.0, 0.1645231693983078, 0.6136527061462402, 0.22635391354560852, 0.5767096877098083, 0.0, 0.1279068887233734, 0.0, 0.0, 0.640899658203125, 0.0, 0.014132114127278328, 0.0, 0.0, 0.0, 0.0, 0.0, 0.0, 0.3129788339138031, 0.0, 0.45250850915908813, 0.5685411095619202, 0.0, 0.21518872678279877, 0.3757888972759247, 0.23219449818134308, 0.15496602654457092, 0.0, 0.0, 0.31201502680778503, 0.0], \\'weak_foot\\': 4, \\'mentality_composure\\': 84, \\'power_jumping\\': 87, \\'passing\\': 80.0, \\'mentality_interceptions\\': 35, \\'physic\\': 77.0, \\'international_reputation\\': 4, \\'mentality_positioning\\': 90, \\'skill_dribbling\\': 90, \\'mentality_aggression\\': 75, \\'mentality_vision\\': 84, \\'attacking_crossing\\': 78, \\'defending\\': 44.0, \\'movement_balance\\': 88, \\'power_shot_power\\': 83, \\'overall\\': 89, \\'attacking_volleys\\': 75, \\'skill_ball_control\\': 88, \\'movement_agility\\': 93, \\'age\\': 29, \\'movement_sprint_speed\\': 90, \\'attacking_heading_accuracy\\': 84, \\'preferred_foot\\': \\'Right\\', \\'power_stamina\\': 85, \\'movement_reactions\\': 91}\", \"id: Karim Benzema, distance: 0.10108156502246857, entity: {\\'club_position\\': \\'CF\\', \\'skill_moves\\': 4, \\'player_positions\\': \\'CF, ST\\', \\'dribbling\\': 87.0, \\'value_eur\\': 66000000.0, \\'skill_curve\\': 81, \\'attacking_short_passing\\': 86, \\'skill_fk_accuracy\\': 73, \\'mentality_penalties\\': 84, \\'shooting\\': 86.0, \\'movement_acceleration\\': 77, \\'skill_long_passing\\': 73, \\'attacking_finishing\\': 90, \\'power_strength\\': 82, \\'long_name\\': \\'Karim Benzema\\', \\'power_long_shots\\': 79, \\'pace\\': 76.0, \\'vector\\': [1.0682823657989502, 0.0, 0.14659999310970306, 0.6525783538818359, 0.17670588195323944, 0.5998446941375732, 0.0, 0.10742279142141342, 0.0, 0.0, 0.5950484275817871, 0.0, 0.09451086074113846, 0.0, 0.0, 0.0, 0.0370655320584774, 0.0, 0.0, 0.33017662167549133, 0.0, 0.49741026759147644, 0.514473021030426, 0.0, 0.1789136528968811, 0.4292433559894562, 0.21449832618236542, 0.06000502407550812, 0.0, 0.0, 0.2910380959510803, 0.0], \\'weak_foot\\': 4, \\'mentality_composure\\': 90, \\'power_jumping\\': 79, \\'passing\\': 81.0, \\'mentality_interceptions\\': 39, \\'physic\\': 77.0, \\'international_reputation\\': 4, \\'mentality_positioning\\': 90, \\'skill_dribbling\\': 87, \\'mentality_aggression\\': 63, \\'mentality_vision\\': 87, \\'attacking_crossing\\': 75, \\'defending\\': 39.0, \\'movement_balance\\': 72, \\'power_shot_power\\': 85, \\'overall\\': 89, \\'attacking_volleys\\': 86, \\'skill_ball_control\\': 90, \\'movement_agility\\': 79, \\'age\\': 33, \\'movement_sprint_speed\\': 75, \\'attacking_heading_accuracy\\': 89, \\'preferred_foot\\': \\'Right\\', \\'power_stamina\\': 78, \\'movement_reactions\\': 91}\", \"id: Harry Kane, distance: 0.10683062672615051, entity: {\\'club_position\\': \\'ST\\', \\'skill_moves\\': 3, \\'player_positions\\': \\'ST\\', \\'dribbling\\': 83.0, \\'value_eur\\': 129500000.0, \\'skill_curve\\': 83, \\'attacking_short_passing\\': 85, \\'skill_fk_accuracy\\': 65, \\'mentality_penalties\\': 91, \\'shooting\\': 91.0, \\'movement_acceleration\\': 65, \\'skill_long_passing\\': 86, \\'attacking_finishing\\': 94, \\'power_strength\\': 85, \\'long_name\\': \\'Harry Kane\\', \\'power_long_shots\\': 86, \\'pace\\': 70.0, \\'vector\\': [1.0945475101470947, 0.0, 0.11936256289482117, 0.690716564655304, 0.19767870008945465, 0.5955528020858765, 0.0, 0.1367354691028595, 0.0, 0.0, 0.5915621519088745, 0.0, 0.06274663656949997, 0.0, 0.0, 0.0, 0.05494696646928787, 0.0, 0.0, 0.3404825031757355, 0.0, 0.49500206112861633, 0.534592866897583, 0.0, 0.19601304829120636, 0.4523169696331024, 0.15593282878398895, 0.045819301158189774, 0.0, 0.0, 0.29401564598083496, 0.0], \\'weak_foot\\': 5, \\'mentality_composure\\': 91, \\'power_jumping\\': 79, \\'passing\\': 83.0, \\'mentality_interceptions\\': 44, \\'physic\\': 83.0, \\'international_reputation\\': 4, \\'mentality_positioning\\': 94, \\'skill_dribbling\\': 83, \\'mentality_aggression\\': 80, \\'mentality_vision\\': 87, \\'attacking_crossing\\': 80, \\'defending\\': 47.0, \\'movement_balance\\': 70, \\'power_shot_power\\': 91, \\'overall\\': 90, \\'attacking_volleys\\': 88, \\'skill_ball_control\\': 85, \\'movement_agility\\': 71, \\'age\\': 27, \\'movement_sprint_speed\\': 74, \\'attacking_heading_accuracy\\': 86, \\'preferred_foot\\': \\'Right\\', \\'power_stamina\\': 83, \\'movement_reactions\\': 92}\", \"id: Mohamed Salah Ghaly, distance: 0.10814611613750458, entity: {\\'club_position\\': \\'RW\\', \\'skill_moves\\': 4, \\'player_positions\\': \\'RW\\', \\'dribbling\\': 90.0, \\'value_eur\\': 101000000.0, \\'skill_curve\\': 83, \\'attacking_short_passing\\': 84, \\'skill_fk_accuracy\\': 69, \\'mentality_penalties\\': 86, \\'shooting\\': 87.0, \\'movement_acceleration\\': 89, \\'skill_long_passing\\': 75, \\'attacking_finishing\\': 91, \\'power_strength\\': 75, \\'long_name\\': \\'Mohamed Salah Ghaly\\', \\'power_long_shots\\': 84, \\'pace\\': 90.0, \\'vector\\': [1.0453587770462036, 0.0, 0.11903299391269684, 0.5913378000259399, 0.2858889698982239, 0.5918100476264954, 0.0, 0.1464751958847046, 0.0, 0.0, 0.6477446556091309, 0.0, 0.0, 0.0, 0.0, 0.0, 0.0033982284367084503, 0.0, 0.0, 0.3462081253528595, 0.0, 0.47478601336479187, 0.6097444295883179, 0.0, 0.302079439163208, 0.38783901929855347, 0.2783224582672119, 0.08320827037096024, 0.0, 0.0, 0.26714029908180237, 0.0], \\'weak_foot\\': 3, \\'mentality_composure\\': 90, \\'power_jumping\\': 69, \\'passing\\': 81.0, \\'mentality_interceptions\\': 55, \\'physic\\': 75.0, \\'international_reputation\\': 4, \\'mentality_positioning\\': 91, \\'skill_dribbling\\': 90, \\'mentality_aggression\\': 63, \\'mentality_vision\\': 83, \\'attacking_crossing\\': 79, \\'defending\\': 45.0, \\'movement_balance\\': 91, \\'power_shot_power\\': 82, \\'overall\\': 89, \\'attacking_volleys\\': 81, \\'skill_ball_control\\': 89, \\'movement_agility\\': 91, \\'age\\': 29, \\'movement_sprint_speed\\': 91, \\'attacking_heading_accuracy\\': 59, \\'preferred_foot\\': \\'Left\\', \\'power_stamina\\': 85, \\'movement_reactions\\': 92}\", \"id: Antoine Griezmann, distance: 0.13040775060653687, entity: {\\'club_position\\': \\'LS\\', \\'skill_moves\\': 4, \\'player_positions\\': \\'ST, LW, RW\\', \\'dribbling\\': 87.0, \\'value_eur\\': 53000000.0, \\'skill_curve\\': 86, \\'attacking_short_passing\\': 84, \\'skill_fk_accuracy\\': 85, \\'mentality_penalties\\': 79, \\'shooting\\': 84.0, \\'movement_acceleration\\': 80, \\'skill_long_passing\\': 82, \\'attacking_finishing\\': 84, \\'power_strength\\': 63, \\'long_name\\': \\'Antoine Griezmann\\', \\'power_long_shots\\': 83, \\'pace\\': 80.0, \\'vector\\': [1.0203495025634766, 0.0, 0.09455842524766922, 0.5790732502937317, 0.25826185941696167, 0.5260653495788574, 0.0, 0.14804579317569733, 0.0, 0.0, 0.6357223987579346, 0.0, 0.0018969043157994747, 0.0, 0.0, 0.0, 0.020573299378156662, 0.0, 0.0, 0.34982678294181824, 0.0, 0.4479982852935791, 0.541019082069397, 0.0, 0.2502676844596863, 0.4386405646800995, 0.2703896760940552, 0.02022469788789749, 0.0, 0.0, 0.29977843165397644, 0.0], \\'weak_foot\\': 3, \\'mentality_composure\\': 90, \\'power_jumping\\': 90, \\'passing\\': 84.0, \\'mentality_interceptions\\': 49, \\'physic\\': 72.0, \\'international_reputation\\': 4, \\'mentality_positioning\\': 89, \\'skill_dribbling\\': 85, \\'mentality_aggression\\': 73, \\'mentality_vision\\': 85, \\'attacking_crossing\\': 83, \\'defending\\': 52.0, \\'movement_balance\\': 83, \\'power_shot_power\\': 82, \\'overall\\': 85, \\'attacking_volleys\\': 86, \\'skill_ball_control\\': 89, \\'movement_agility\\': 92, \\'age\\': 30, \\'movement_sprint_speed\\': 80, \\'attacking_heading_accuracy\\': 83, \\'preferred_foot\\': \\'Left\\', \\'power_stamina\\': 86, \\'movement_reactions\\': 89}\"]']\n"
     ]
    }
   ],
   "source": [
    "print(search_results)"
   ]
  },
  {
   "cell_type": "code",
   "execution_count": 19,
   "metadata": {},
   "outputs": [],
   "source": [
    "details = [y.entity.long_name for x in search_results for y in x]"
   ]
  },
  {
   "cell_type": "code",
   "execution_count": 20,
   "metadata": {},
   "outputs": [
    {
     "data": {
      "text/plain": [
       "['Lionel Andrés Messi Cuccittini',\n",
       " 'Kylian Mbappé Lottin',\n",
       " 'Cristiano Ronaldo dos Santos Aveiro',\n",
       " 'Neymar da Silva Santos Júnior',\n",
       " 'Robert Lewandowski',\n",
       " 'Sadio Mané',\n",
       " 'Karim Benzema',\n",
       " 'Harry Kane',\n",
       " 'Mohamed Salah Ghaly',\n",
       " 'Antoine Griezmann']"
      ]
     },
     "execution_count": 20,
     "metadata": {},
     "output_type": "execute_result"
    }
   ],
   "source": [
    "details"
   ]
  },
  {
   "cell_type": "code",
   "execution_count": 38,
   "metadata": {},
   "outputs": [],
   "source": [
    "connections.disconnect(alias=\"\")"
   ]
  },
  {
   "cell_type": "code",
   "execution_count": 20,
   "metadata": {},
   "outputs": [],
   "source": [
    "import json\n",
    "\n",
    "player_names = df['long_name'].to_list()\n",
    "\n",
    "with open(\"players.json\", 'w') as f:\n",
    "    json.dump(player_names, f)"
   ]
  },
  {
   "cell_type": "code",
   "execution_count": 21,
   "metadata": {},
   "outputs": [
    {
     "data": {
      "text/plain": [
       "'Lionel Andrés Messi Cuccittini'"
      ]
     },
     "execution_count": 21,
     "metadata": {},
     "output_type": "execute_result"
    }
   ],
   "source": [
    "player_names[0]"
   ]
  },
  {
   "cell_type": "code",
   "execution_count": 27,
   "metadata": {},
   "outputs": [],
   "source": [
    "nameind = dict()\n",
    "for i in df['long_name'].index:\n",
    "    nameind[df['long_name'][i]] = i"
   ]
  },
  {
   "cell_type": "code",
   "execution_count": 28,
   "metadata": {},
   "outputs": [],
   "source": [
    "import json\n",
    "\n",
    "with open(\"playerstoinf.json\", 'w') as f:\n",
    "    json.dump(nameind, f)"
   ]
  },
  {
   "cell_type": "code",
   "execution_count": null,
   "metadata": {},
   "outputs": [],
   "source": []
  }
 ],
 "metadata": {
  "kernelspec": {
   "display_name": "Python 3",
   "language": "python",
   "name": "python3"
  },
  "language_info": {
   "codemirror_mode": {
    "name": "ipython",
    "version": 3
   },
   "file_extension": ".py",
   "mimetype": "text/x-python",
   "name": "python",
   "nbconvert_exporter": "python",
   "pygments_lexer": "ipython3",
   "version": "3.9.6"
  }
 },
 "nbformat": 4,
 "nbformat_minor": 2
}
